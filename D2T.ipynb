{
  "nbformat": 4,
  "nbformat_minor": 0,
  "metadata": {
    "colab": {
      "provenance": []
    },
    "kernelspec": {
      "name": "python3",
      "display_name": "Python 3"
    },
    "language_info": {
      "name": "python"
    },
    "accelerator": "GPU",
    "gpuClass": "standard"
  },
  "cells": [
    {
      "cell_type": "code",
      "execution_count": null,
      "metadata": {
        "id": "jXpAqH4hlIsJ"
      },
      "outputs": [],
      "source": [
        "!pip install transformers\n",
        "!pip install sentencepiece"
      ]
    },
    {
      "cell_type": "code",
      "source": [
        "import pandas as pd\n",
        "import os\n",
        "import torch\n",
        "from transformers import T5Tokenizer, T5ForConditionalGeneration\n",
        "from transformers.optimization import  Adafactor \n",
        "import time\n",
        "import warnings\n",
        "warnings.filterwarnings('ignore')"
      ],
      "metadata": {
        "id": "dQlPzCYFlRhd"
      },
      "execution_count": null,
      "outputs": []
    },
    {
      "cell_type": "code",
      "source": [
        "import urllib.request\n",
        "import zipfile\n",
        "url = 'https://gitlab.com/shimorina/webnlg-dataset/-/archive/master/webnlg-dataset-master.zip?path=release_v3.0/en'\n",
        "urllib.request.urlretrieve(url, 'webNLG_v3.0.zip')\n",
        "with zipfile.ZipFile('webNLG_v3.0.zip', 'r') as zip_ref:\n",
        "    zip_ref.extractall('webNLG_v3.0')"
      ],
      "metadata": {
        "id": "YM54NyEmpIgx"
      },
      "execution_count": null,
      "outputs": []
    },
    {
      "cell_type": "code",
      "source": [
        "import glob\n",
        "import os\n",
        "import re\n",
        "import xml.etree.ElementTree as ET"
      ],
      "metadata": {
        "id": "zOfQeVotmS6L"
      },
      "execution_count": null,
      "outputs": []
    },
    {
      "cell_type": "code",
      "source": [
        "myDict = {}\n",
        "special = {'á' : 'a','Á':'A','à':'a','À':'A','â':'a','Â': 'A','ä':'a','Ä':'A','ã':'a','Ã':'A','å':'a','Å':'A','æ':'ae','Æ':'Ae',\n",
        "           'ç':'c','Ç':'C','é':'e','É':'E','è':'e','È':'E','ê':'e','Ê':'E','ë':'e','Ë':'E','í':'i','Í':'I','ì':'i','Ì':'I','î':'i','Î':'I','ï':'i','Ï':'I', 'İ':'I',\n",
        "           'ñ':'n','Ñ':'N','ó':'o','Ó':'O','ò':'o','Ò':'O','ô':'o','Ô':'O','ö':'o','õ':'o','Õ':'O','ø':'o','œ':'oe','ß':'B','Ú':'U','ù':'u','Ù':'U','û':'u','Û':'U','ü':'u','Ü':'U', 'ú':'u'}\n"
      ],
      "metadata": {
        "id": "2fD5Jt6wKOJG"
      },
      "execution_count": null,
      "outputs": []
    },
    {
      "cell_type": "code",
      "source": [
        "def removeSpecial(text):\n",
        "    wordList = text.split()\n",
        "    for j in range(len(wordList)):\n",
        "        temp = wordList[j]\n",
        "        add = False\n",
        "        for i in range(len(wordList[j])):\n",
        "            if wordList[j][i] in special:\n",
        "                add = True\n",
        "                wordList[j] = wordList[j].replace(wordList[j][i], special[wordList[j][i]])\n",
        "        if add == True:\n",
        "            myDict[wordList[j]] = temp\n",
        "\n",
        "    no_special = \" \".join(wordList)\n",
        "    return no_special\n",
        "\n",
        "def addSpecial(text):\n",
        "    result = \"\"\n",
        "    wordList = text.split()\n",
        "    for word in wordList:\n",
        "        if word in myDict:\n",
        "            result += myDict[word]\n",
        "        elif word + ',' in myDict:\n",
        "            result += myDict[word] + ','\n",
        "        elif word + '.' in myDict:\n",
        "            result += myDict[word] + '.'\n",
        "        elif word[-1] == '.' and word[:-1] in myDict:\n",
        "            result += myDict[word[:-1]] + '.'\n",
        "        elif word[-1] == ',' and word[:-1] in myDict:\n",
        "            result += myDict[word[:-1]] + ','\n",
        "        else:\n",
        "            result += word\n",
        "        result += ' '\n",
        "    return result"
      ],
      "metadata": {
        "id": "GulJsE-PD9aL"
      },
      "execution_count": null,
      "outputs": []
    },
    {
      "cell_type": "code",
      "source": [
        "files = glob.glob('/content/webNLG_v3.0/webnlg-dataset-master-release_v3.0-en/release_v3.0/en/train/**/*.xml', recursive=True)\n",
        "triple_re=re.compile('(\\d)triples')\n",
        "data={}\n",
        "for file in files:\n",
        "    tree = ET.parse(file)\n",
        "    root = tree.getroot()\n",
        "    triples_num=int(triple_re.findall(file)[0])\n",
        "    for sub_root in root:\n",
        "        for subsub_root in sub_root:\n",
        "            lexf=[]\n",
        "            trpl=[]\n",
        "            for entry in subsub_root:\n",
        "              trpl.append(entry.text)\n",
        "              lex=[triple.text for triple in entry]\n",
        "              lexf.extend(lex)\n",
        "            trpl=[i for i in trpl if i.replace('\\n','').strip()!='' ]\n",
        "            lexf=lexf[-triples_num:]\n",
        "            lexf_str=(' && ').join(lexf)\n",
        "            data[lexf_str]=trpl\n",
        "\n",
        "dct={\"input_text\":[], \"target_text\":[]}\n",
        "for st,unst in data.items():\n",
        "    for i in unst:\n",
        "        dct['input_text'].append(removeSpecial(st))\n",
        "        dct['target_text'].append(removeSpecial(i))\n",
        "\n",
        "train=pd.DataFrame(dct)\n",
        "train.head()\n"
      ],
      "metadata": {
        "id": "8N_M6bEa8doS",
        "colab": {
          "base_uri": "https://localhost:8080/",
          "height": 628
        },
        "outputId": "29476713-3ed0-4514-d23d-3ea82df157df"
      },
      "execution_count": null,
      "outputs": [
        {
          "output_type": "execute_result",
          "data": {
            "text/plain": [
              "                                          input_text  \\\n",
              "0  11th_Mississippi_Infantry_Monument | country |...   \n",
              "1  11th_Mississippi_Infantry_Monument | country |...   \n",
              "2  11th_Mississippi_Infantry_Monument | country |...   \n",
              "3  11th_Mississippi_Infantry_Monument | country |...   \n",
              "4  11th_Mississippi_Infantry_Monument | country |...   \n",
              "\n",
              "                                         target_text  \n",
              "0  The 11th Mississippi Infantry monument was com...  \n",
              "1  The 11th Mississippi Infantry Monument was ere...  \n",
              "2  The 11th Mississippi Infantry Monument was est...  \n",
              "3  The 11th Mississippi Infantry Monument is plac...  \n",
              "4  The 11th Mississippi Infantry Monument is loca...  "
            ],
            "text/html": [
              "\n",
              "  <div id=\"df-e4c9da5c-2e59-4a4c-a055-7fbcbae22164\">\n",
              "    <div class=\"colab-df-container\">\n",
              "      <div>\n",
              "<style scoped>\n",
              "    .dataframe tbody tr th:only-of-type {\n",
              "        vertical-align: middle;\n",
              "    }\n",
              "\n",
              "    .dataframe tbody tr th {\n",
              "        vertical-align: top;\n",
              "    }\n",
              "\n",
              "    .dataframe thead th {\n",
              "        text-align: right;\n",
              "    }\n",
              "</style>\n",
              "<table border=\"1\" class=\"dataframe\">\n",
              "  <thead>\n",
              "    <tr style=\"text-align: right;\">\n",
              "      <th></th>\n",
              "      <th>input_text</th>\n",
              "      <th>target_text</th>\n",
              "    </tr>\n",
              "  </thead>\n",
              "  <tbody>\n",
              "    <tr>\n",
              "      <th>0</th>\n",
              "      <td>11th_Mississippi_Infantry_Monument | country |...</td>\n",
              "      <td>The 11th Mississippi Infantry monument was com...</td>\n",
              "    </tr>\n",
              "    <tr>\n",
              "      <th>1</th>\n",
              "      <td>11th_Mississippi_Infantry_Monument | country |...</td>\n",
              "      <td>The 11th Mississippi Infantry Monument was ere...</td>\n",
              "    </tr>\n",
              "    <tr>\n",
              "      <th>2</th>\n",
              "      <td>11th_Mississippi_Infantry_Monument | country |...</td>\n",
              "      <td>The 11th Mississippi Infantry Monument was est...</td>\n",
              "    </tr>\n",
              "    <tr>\n",
              "      <th>3</th>\n",
              "      <td>11th_Mississippi_Infantry_Monument | country |...</td>\n",
              "      <td>The 11th Mississippi Infantry Monument is plac...</td>\n",
              "    </tr>\n",
              "    <tr>\n",
              "      <th>4</th>\n",
              "      <td>11th_Mississippi_Infantry_Monument | country |...</td>\n",
              "      <td>The 11th Mississippi Infantry Monument is loca...</td>\n",
              "    </tr>\n",
              "  </tbody>\n",
              "</table>\n",
              "</div>\n",
              "      <button class=\"colab-df-convert\" onclick=\"convertToInteractive('df-e4c9da5c-2e59-4a4c-a055-7fbcbae22164')\"\n",
              "              title=\"Convert this dataframe to an interactive table.\"\n",
              "              style=\"display:none;\">\n",
              "        \n",
              "  <svg xmlns=\"http://www.w3.org/2000/svg\" height=\"24px\"viewBox=\"0 0 24 24\"\n",
              "       width=\"24px\">\n",
              "    <path d=\"M0 0h24v24H0V0z\" fill=\"none\"/>\n",
              "    <path d=\"M18.56 5.44l.94 2.06.94-2.06 2.06-.94-2.06-.94-.94-2.06-.94 2.06-2.06.94zm-11 1L8.5 8.5l.94-2.06 2.06-.94-2.06-.94L8.5 2.5l-.94 2.06-2.06.94zm10 10l.94 2.06.94-2.06 2.06-.94-2.06-.94-.94-2.06-.94 2.06-2.06.94z\"/><path d=\"M17.41 7.96l-1.37-1.37c-.4-.4-.92-.59-1.43-.59-.52 0-1.04.2-1.43.59L10.3 9.45l-7.72 7.72c-.78.78-.78 2.05 0 2.83L4 21.41c.39.39.9.59 1.41.59.51 0 1.02-.2 1.41-.59l7.78-7.78 2.81-2.81c.8-.78.8-2.07 0-2.86zM5.41 20L4 18.59l7.72-7.72 1.47 1.35L5.41 20z\"/>\n",
              "  </svg>\n",
              "      </button>\n",
              "      \n",
              "  <style>\n",
              "    .colab-df-container {\n",
              "      display:flex;\n",
              "      flex-wrap:wrap;\n",
              "      gap: 12px;\n",
              "    }\n",
              "\n",
              "    .colab-df-convert {\n",
              "      background-color: #E8F0FE;\n",
              "      border: none;\n",
              "      border-radius: 50%;\n",
              "      cursor: pointer;\n",
              "      display: none;\n",
              "      fill: #1967D2;\n",
              "      height: 32px;\n",
              "      padding: 0 0 0 0;\n",
              "      width: 32px;\n",
              "    }\n",
              "\n",
              "    .colab-df-convert:hover {\n",
              "      background-color: #E2EBFA;\n",
              "      box-shadow: 0px 1px 2px rgba(60, 64, 67, 0.3), 0px 1px 3px 1px rgba(60, 64, 67, 0.15);\n",
              "      fill: #174EA6;\n",
              "    }\n",
              "\n",
              "    [theme=dark] .colab-df-convert {\n",
              "      background-color: #3B4455;\n",
              "      fill: #D2E3FC;\n",
              "    }\n",
              "\n",
              "    [theme=dark] .colab-df-convert:hover {\n",
              "      background-color: #434B5C;\n",
              "      box-shadow: 0px 1px 3px 1px rgba(0, 0, 0, 0.15);\n",
              "      filter: drop-shadow(0px 1px 2px rgba(0, 0, 0, 0.3));\n",
              "      fill: #FFFFFF;\n",
              "    }\n",
              "  </style>\n",
              "\n",
              "      <script>\n",
              "        const buttonEl =\n",
              "          document.querySelector('#df-e4c9da5c-2e59-4a4c-a055-7fbcbae22164 button.colab-df-convert');\n",
              "        buttonEl.style.display =\n",
              "          google.colab.kernel.accessAllowed ? 'block' : 'none';\n",
              "\n",
              "        async function convertToInteractive(key) {\n",
              "          const element = document.querySelector('#df-e4c9da5c-2e59-4a4c-a055-7fbcbae22164');\n",
              "          const dataTable =\n",
              "            await google.colab.kernel.invokeFunction('convertToInteractive',\n",
              "                                                     [key], {});\n",
              "          if (!dataTable) return;\n",
              "\n",
              "          const docLinkHtml = 'Like what you see? Visit the ' +\n",
              "            '<a target=\"_blank\" href=https://colab.research.google.com/notebooks/data_table.ipynb>data table notebook</a>'\n",
              "            + ' to learn more about interactive tables.';\n",
              "          element.innerHTML = '';\n",
              "          dataTable['output_type'] = 'display_data';\n",
              "          await google.colab.output.renderOutput(dataTable, element);\n",
              "          const docLink = document.createElement('div');\n",
              "          docLink.innerHTML = docLinkHtml;\n",
              "          element.appendChild(docLink);\n",
              "        }\n",
              "      </script>\n",
              "    </div>\n",
              "  </div>\n",
              "  "
            ]
          },
          "metadata": {},
          "execution_count": 7
        }
      ]
    },
    {
      "cell_type": "code",
      "source": [
        "train=train.sample(frac=1)\n",
        "train.to_csv(\"train.csv\")\n",
        "train.head()"
      ],
      "metadata": {
        "id": "pJuXqP8fZmWr",
        "colab": {
          "base_uri": "https://localhost:8080/",
          "height": 413
        },
        "outputId": "821e84e9-934f-42a9-8e9f-06f085811582"
      },
      "execution_count": null,
      "outputs": [
        {
          "output_type": "execute_result",
          "data": {
            "text/plain": [
              "                                              input_text  \\\n",
              "28051  Aaron_Boogaard | height | 1.905 && Aaron_Booga...   \n",
              "7048              1001_Gaussia | absoluteMagnitude | 9.7   \n",
              "19545  A_Long_Long_Way | isbnNumber | \"0-670-03380-4\"...   \n",
              "14878  AEK_Athens_F.C. | league | Superleague_Greece ...   \n",
              "22244  11th_Mississippi_Infantry_Monument | country |...   \n",
              "\n",
              "                                             target_text  \n",
              "28051  Aaron Boogaard was born in Saskatchewan and is...  \n",
              "7048      1001 Gaussia has an absolute magnitude of 9.7.  \n",
              "19545  The ISBN number of the hardcover A Long Long W...  \n",
              "14878  Olympiacos F.C. were past champions in the Gre...  \n",
              "22244  The 11th Mississippi Infantry Monument stands ...  "
            ],
            "text/html": [
              "\n",
              "  <div id=\"df-0e038f23-c2cf-4b46-96ed-dff74f258570\">\n",
              "    <div class=\"colab-df-container\">\n",
              "      <div>\n",
              "<style scoped>\n",
              "    .dataframe tbody tr th:only-of-type {\n",
              "        vertical-align: middle;\n",
              "    }\n",
              "\n",
              "    .dataframe tbody tr th {\n",
              "        vertical-align: top;\n",
              "    }\n",
              "\n",
              "    .dataframe thead th {\n",
              "        text-align: right;\n",
              "    }\n",
              "</style>\n",
              "<table border=\"1\" class=\"dataframe\">\n",
              "  <thead>\n",
              "    <tr style=\"text-align: right;\">\n",
              "      <th></th>\n",
              "      <th>input_text</th>\n",
              "      <th>target_text</th>\n",
              "    </tr>\n",
              "  </thead>\n",
              "  <tbody>\n",
              "    <tr>\n",
              "      <th>28051</th>\n",
              "      <td>Aaron_Boogaard | height | 1.905 &amp;&amp; Aaron_Booga...</td>\n",
              "      <td>Aaron Boogaard was born in Saskatchewan and is...</td>\n",
              "    </tr>\n",
              "    <tr>\n",
              "      <th>7048</th>\n",
              "      <td>1001_Gaussia | absoluteMagnitude | 9.7</td>\n",
              "      <td>1001 Gaussia has an absolute magnitude of 9.7.</td>\n",
              "    </tr>\n",
              "    <tr>\n",
              "      <th>19545</th>\n",
              "      <td>A_Long_Long_Way | isbnNumber | \"0-670-03380-4\"...</td>\n",
              "      <td>The ISBN number of the hardcover A Long Long W...</td>\n",
              "    </tr>\n",
              "    <tr>\n",
              "      <th>14878</th>\n",
              "      <td>AEK_Athens_F.C. | league | Superleague_Greece ...</td>\n",
              "      <td>Olympiacos F.C. were past champions in the Gre...</td>\n",
              "    </tr>\n",
              "    <tr>\n",
              "      <th>22244</th>\n",
              "      <td>11th_Mississippi_Infantry_Monument | country |...</td>\n",
              "      <td>The 11th Mississippi Infantry Monument stands ...</td>\n",
              "    </tr>\n",
              "  </tbody>\n",
              "</table>\n",
              "</div>\n",
              "      <button class=\"colab-df-convert\" onclick=\"convertToInteractive('df-0e038f23-c2cf-4b46-96ed-dff74f258570')\"\n",
              "              title=\"Convert this dataframe to an interactive table.\"\n",
              "              style=\"display:none;\">\n",
              "        \n",
              "  <svg xmlns=\"http://www.w3.org/2000/svg\" height=\"24px\"viewBox=\"0 0 24 24\"\n",
              "       width=\"24px\">\n",
              "    <path d=\"M0 0h24v24H0V0z\" fill=\"none\"/>\n",
              "    <path d=\"M18.56 5.44l.94 2.06.94-2.06 2.06-.94-2.06-.94-.94-2.06-.94 2.06-2.06.94zm-11 1L8.5 8.5l.94-2.06 2.06-.94-2.06-.94L8.5 2.5l-.94 2.06-2.06.94zm10 10l.94 2.06.94-2.06 2.06-.94-2.06-.94-.94-2.06-.94 2.06-2.06.94z\"/><path d=\"M17.41 7.96l-1.37-1.37c-.4-.4-.92-.59-1.43-.59-.52 0-1.04.2-1.43.59L10.3 9.45l-7.72 7.72c-.78.78-.78 2.05 0 2.83L4 21.41c.39.39.9.59 1.41.59.51 0 1.02-.2 1.41-.59l7.78-7.78 2.81-2.81c.8-.78.8-2.07 0-2.86zM5.41 20L4 18.59l7.72-7.72 1.47 1.35L5.41 20z\"/>\n",
              "  </svg>\n",
              "      </button>\n",
              "      \n",
              "  <style>\n",
              "    .colab-df-container {\n",
              "      display:flex;\n",
              "      flex-wrap:wrap;\n",
              "      gap: 12px;\n",
              "    }\n",
              "\n",
              "    .colab-df-convert {\n",
              "      background-color: #E8F0FE;\n",
              "      border: none;\n",
              "      border-radius: 50%;\n",
              "      cursor: pointer;\n",
              "      display: none;\n",
              "      fill: #1967D2;\n",
              "      height: 32px;\n",
              "      padding: 0 0 0 0;\n",
              "      width: 32px;\n",
              "    }\n",
              "\n",
              "    .colab-df-convert:hover {\n",
              "      background-color: #E2EBFA;\n",
              "      box-shadow: 0px 1px 2px rgba(60, 64, 67, 0.3), 0px 1px 3px 1px rgba(60, 64, 67, 0.15);\n",
              "      fill: #174EA6;\n",
              "    }\n",
              "\n",
              "    [theme=dark] .colab-df-convert {\n",
              "      background-color: #3B4455;\n",
              "      fill: #D2E3FC;\n",
              "    }\n",
              "\n",
              "    [theme=dark] .colab-df-convert:hover {\n",
              "      background-color: #434B5C;\n",
              "      box-shadow: 0px 1px 3px 1px rgba(0, 0, 0, 0.15);\n",
              "      filter: drop-shadow(0px 1px 2px rgba(0, 0, 0, 0.3));\n",
              "      fill: #FFFFFF;\n",
              "    }\n",
              "  </style>\n",
              "\n",
              "      <script>\n",
              "        const buttonEl =\n",
              "          document.querySelector('#df-0e038f23-c2cf-4b46-96ed-dff74f258570 button.colab-df-convert');\n",
              "        buttonEl.style.display =\n",
              "          google.colab.kernel.accessAllowed ? 'block' : 'none';\n",
              "\n",
              "        async function convertToInteractive(key) {\n",
              "          const element = document.querySelector('#df-0e038f23-c2cf-4b46-96ed-dff74f258570');\n",
              "          const dataTable =\n",
              "            await google.colab.kernel.invokeFunction('convertToInteractive',\n",
              "                                                     [key], {});\n",
              "          if (!dataTable) return;\n",
              "\n",
              "          const docLinkHtml = 'Like what you see? Visit the ' +\n",
              "            '<a target=\"_blank\" href=https://colab.research.google.com/notebooks/data_table.ipynb>data table notebook</a>'\n",
              "            + ' to learn more about interactive tables.';\n",
              "          element.innerHTML = '';\n",
              "          dataTable['output_type'] = 'display_data';\n",
              "          await google.colab.output.renderOutput(dataTable, element);\n",
              "          const docLink = document.createElement('div');\n",
              "          docLink.innerHTML = docLinkHtml;\n",
              "          element.appendChild(docLink);\n",
              "        }\n",
              "      </script>\n",
              "    </div>\n",
              "  </div>\n",
              "  "
            ]
          },
          "metadata": {},
          "execution_count": 8
        }
      ]
    },
    {
      "cell_type": "code",
      "source": [
        "files = glob.glob('/content/webNLG_v3.0/webnlg-dataset-master-release_v3.0-en/release_v3.0/en/dev/**/*.xml', recursive=True)\n",
        "triple_re=re.compile('(\\d)triples')\n",
        "data={}\n",
        "for file in files:\n",
        "    tree = ET.parse(file)\n",
        "    root = tree.getroot()\n",
        "    triples_num=int(triple_re.findall(file)[0])\n",
        "    for sub_root in root:\n",
        "        for subsub_root in sub_root:\n",
        "            lexf=[]\n",
        "            trpl=[]\n",
        "            for entry in subsub_root:\n",
        "              trpl.append(entry.text)\n",
        "              lex=[triple.text for triple in entry]\n",
        "              lexf.extend(lex)\n",
        "            trpl=[i for i in trpl if i.replace('\\n','').strip()!='' ]\n",
        "            lexf=lexf[-triples_num:]\n",
        "            lexf_str=(' && ').join(lexf)\n",
        "            data[lexf_str]=trpl\n",
        "\n",
        "dct={\"input_text\":[], \"target_text\":[]}\n",
        "for st,unst in data.items():\n",
        "    for i in unst:\n",
        "        dct['input_text'].append(removeSpecial(st))\n",
        "        dct['target_text'].append(removeSpecial(i))\n",
        "\n",
        "val=pd.DataFrame(dct)\n",
        "val.head()"
      ],
      "metadata": {
        "id": "3hOO8CFPAmdJ",
        "colab": {
          "base_uri": "https://localhost:8080/",
          "height": 578
        },
        "outputId": "155feec7-baf4-4498-9021-238f6ee428b8"
      },
      "execution_count": null,
      "outputs": [
        {
          "output_type": "execute_result",
          "data": {
            "text/plain": [
              "                                          input_text  \\\n",
              "0  Ataturk_Monument_(Izmir) | designer | Pietro_C...   \n",
              "1  Ataturk_Monument_(Izmir) | designer | Pietro_C...   \n",
              "2  Ataturk_Monument_(Izmir) | designer | Pietro_C...   \n",
              "3  Azerbaijan | leaderTitle | Prime_Minister_of_A...   \n",
              "4  Azerbaijan | leaderTitle | Prime_Minister_of_A...   \n",
              "\n",
              "                                         target_text  \n",
              "0  Ankara is the Turkish capital and the country'...  \n",
              "1  The Ataturk Monument in Izmir was inaugurated ...  \n",
              "2  The capital city of Turkey is Ankara and the c...  \n",
              "3  The Baku Turkish Martyrs' Memorial (original n...  \n",
              "4  The Baku Turkish Martyrs' Memorial is located ...  "
            ],
            "text/html": [
              "\n",
              "  <div id=\"df-e87dcbd4-4cec-4c04-91e1-660366568657\">\n",
              "    <div class=\"colab-df-container\">\n",
              "      <div>\n",
              "<style scoped>\n",
              "    .dataframe tbody tr th:only-of-type {\n",
              "        vertical-align: middle;\n",
              "    }\n",
              "\n",
              "    .dataframe tbody tr th {\n",
              "        vertical-align: top;\n",
              "    }\n",
              "\n",
              "    .dataframe thead th {\n",
              "        text-align: right;\n",
              "    }\n",
              "</style>\n",
              "<table border=\"1\" class=\"dataframe\">\n",
              "  <thead>\n",
              "    <tr style=\"text-align: right;\">\n",
              "      <th></th>\n",
              "      <th>input_text</th>\n",
              "      <th>target_text</th>\n",
              "    </tr>\n",
              "  </thead>\n",
              "  <tbody>\n",
              "    <tr>\n",
              "      <th>0</th>\n",
              "      <td>Ataturk_Monument_(Izmir) | designer | Pietro_C...</td>\n",
              "      <td>Ankara is the Turkish capital and the country'...</td>\n",
              "    </tr>\n",
              "    <tr>\n",
              "      <th>1</th>\n",
              "      <td>Ataturk_Monument_(Izmir) | designer | Pietro_C...</td>\n",
              "      <td>The Ataturk Monument in Izmir was inaugurated ...</td>\n",
              "    </tr>\n",
              "    <tr>\n",
              "      <th>2</th>\n",
              "      <td>Ataturk_Monument_(Izmir) | designer | Pietro_C...</td>\n",
              "      <td>The capital city of Turkey is Ankara and the c...</td>\n",
              "    </tr>\n",
              "    <tr>\n",
              "      <th>3</th>\n",
              "      <td>Azerbaijan | leaderTitle | Prime_Minister_of_A...</td>\n",
              "      <td>The Baku Turkish Martyrs' Memorial (original n...</td>\n",
              "    </tr>\n",
              "    <tr>\n",
              "      <th>4</th>\n",
              "      <td>Azerbaijan | leaderTitle | Prime_Minister_of_A...</td>\n",
              "      <td>The Baku Turkish Martyrs' Memorial is located ...</td>\n",
              "    </tr>\n",
              "  </tbody>\n",
              "</table>\n",
              "</div>\n",
              "      <button class=\"colab-df-convert\" onclick=\"convertToInteractive('df-e87dcbd4-4cec-4c04-91e1-660366568657')\"\n",
              "              title=\"Convert this dataframe to an interactive table.\"\n",
              "              style=\"display:none;\">\n",
              "        \n",
              "  <svg xmlns=\"http://www.w3.org/2000/svg\" height=\"24px\"viewBox=\"0 0 24 24\"\n",
              "       width=\"24px\">\n",
              "    <path d=\"M0 0h24v24H0V0z\" fill=\"none\"/>\n",
              "    <path d=\"M18.56 5.44l.94 2.06.94-2.06 2.06-.94-2.06-.94-.94-2.06-.94 2.06-2.06.94zm-11 1L8.5 8.5l.94-2.06 2.06-.94-2.06-.94L8.5 2.5l-.94 2.06-2.06.94zm10 10l.94 2.06.94-2.06 2.06-.94-2.06-.94-.94-2.06-.94 2.06-2.06.94z\"/><path d=\"M17.41 7.96l-1.37-1.37c-.4-.4-.92-.59-1.43-.59-.52 0-1.04.2-1.43.59L10.3 9.45l-7.72 7.72c-.78.78-.78 2.05 0 2.83L4 21.41c.39.39.9.59 1.41.59.51 0 1.02-.2 1.41-.59l7.78-7.78 2.81-2.81c.8-.78.8-2.07 0-2.86zM5.41 20L4 18.59l7.72-7.72 1.47 1.35L5.41 20z\"/>\n",
              "  </svg>\n",
              "      </button>\n",
              "      \n",
              "  <style>\n",
              "    .colab-df-container {\n",
              "      display:flex;\n",
              "      flex-wrap:wrap;\n",
              "      gap: 12px;\n",
              "    }\n",
              "\n",
              "    .colab-df-convert {\n",
              "      background-color: #E8F0FE;\n",
              "      border: none;\n",
              "      border-radius: 50%;\n",
              "      cursor: pointer;\n",
              "      display: none;\n",
              "      fill: #1967D2;\n",
              "      height: 32px;\n",
              "      padding: 0 0 0 0;\n",
              "      width: 32px;\n",
              "    }\n",
              "\n",
              "    .colab-df-convert:hover {\n",
              "      background-color: #E2EBFA;\n",
              "      box-shadow: 0px 1px 2px rgba(60, 64, 67, 0.3), 0px 1px 3px 1px rgba(60, 64, 67, 0.15);\n",
              "      fill: #174EA6;\n",
              "    }\n",
              "\n",
              "    [theme=dark] .colab-df-convert {\n",
              "      background-color: #3B4455;\n",
              "      fill: #D2E3FC;\n",
              "    }\n",
              "\n",
              "    [theme=dark] .colab-df-convert:hover {\n",
              "      background-color: #434B5C;\n",
              "      box-shadow: 0px 1px 3px 1px rgba(0, 0, 0, 0.15);\n",
              "      filter: drop-shadow(0px 1px 2px rgba(0, 0, 0, 0.3));\n",
              "      fill: #FFFFFF;\n",
              "    }\n",
              "  </style>\n",
              "\n",
              "      <script>\n",
              "        const buttonEl =\n",
              "          document.querySelector('#df-e87dcbd4-4cec-4c04-91e1-660366568657 button.colab-df-convert');\n",
              "        buttonEl.style.display =\n",
              "          google.colab.kernel.accessAllowed ? 'block' : 'none';\n",
              "\n",
              "        async function convertToInteractive(key) {\n",
              "          const element = document.querySelector('#df-e87dcbd4-4cec-4c04-91e1-660366568657');\n",
              "          const dataTable =\n",
              "            await google.colab.kernel.invokeFunction('convertToInteractive',\n",
              "                                                     [key], {});\n",
              "          if (!dataTable) return;\n",
              "\n",
              "          const docLinkHtml = 'Like what you see? Visit the ' +\n",
              "            '<a target=\"_blank\" href=https://colab.research.google.com/notebooks/data_table.ipynb>data table notebook</a>'\n",
              "            + ' to learn more about interactive tables.';\n",
              "          element.innerHTML = '';\n",
              "          dataTable['output_type'] = 'display_data';\n",
              "          await google.colab.output.renderOutput(dataTable, element);\n",
              "          const docLink = document.createElement('div');\n",
              "          docLink.innerHTML = docLinkHtml;\n",
              "          element.appendChild(docLink);\n",
              "        }\n",
              "      </script>\n",
              "    </div>\n",
              "  </div>\n",
              "  "
            ]
          },
          "metadata": {},
          "execution_count": 9
        }
      ]
    },
    {
      "cell_type": "code",
      "source": [
        "val=val.sample(frac=1)\n",
        "val.to_csv(\"val.csv\")\n",
        "val.head()"
      ],
      "metadata": {
        "id": "BY1yH7wZA5uY",
        "colab": {
          "base_uri": "https://localhost:8080/",
          "height": 330
        },
        "outputId": "451cd902-ccde-4cf3-b59d-9b85f04fca3d"
      },
      "execution_count": null,
      "outputs": [
        {
          "output_type": "execute_result",
          "data": {
            "text/plain": [
              "                                             input_text  \\\n",
              "3855  Alfred_Garth_Jones | deathPlace | Sidcup && Al...   \n",
              "2933  Albany,_Georgia | isPartOf | Georgia_(U.S._sta...   \n",
              "361         Abdul_Taib_Mahmud | region | Kota_Samarahan   \n",
              "2206  Alex_Day | genre | Synthpop && Synthpop | styl...   \n",
              "3539  1097_Vicia | epoch | 2006-12-31 && 1097_Vicia ...   \n",
              "\n",
              "                                            target_text  \n",
              "3855  Alfred Garth Jones died in Sidcup in London wh...  \n",
              "2933  English is the language of the United States, ...  \n",
              "361           Abdul Taib Mahmud is from Kota Samarahan.  \n",
              "2206  Alex Day plays Synthpop, which is derived from...  \n",
              "3539  The epoch date of 1097 Vicia is 2006.12.31. Th...  "
            ],
            "text/html": [
              "\n",
              "  <div id=\"df-2851e5c4-afdb-46ed-a277-543471924a52\">\n",
              "    <div class=\"colab-df-container\">\n",
              "      <div>\n",
              "<style scoped>\n",
              "    .dataframe tbody tr th:only-of-type {\n",
              "        vertical-align: middle;\n",
              "    }\n",
              "\n",
              "    .dataframe tbody tr th {\n",
              "        vertical-align: top;\n",
              "    }\n",
              "\n",
              "    .dataframe thead th {\n",
              "        text-align: right;\n",
              "    }\n",
              "</style>\n",
              "<table border=\"1\" class=\"dataframe\">\n",
              "  <thead>\n",
              "    <tr style=\"text-align: right;\">\n",
              "      <th></th>\n",
              "      <th>input_text</th>\n",
              "      <th>target_text</th>\n",
              "    </tr>\n",
              "  </thead>\n",
              "  <tbody>\n",
              "    <tr>\n",
              "      <th>3855</th>\n",
              "      <td>Alfred_Garth_Jones | deathPlace | Sidcup &amp;&amp; Al...</td>\n",
              "      <td>Alfred Garth Jones died in Sidcup in London wh...</td>\n",
              "    </tr>\n",
              "    <tr>\n",
              "      <th>2933</th>\n",
              "      <td>Albany,_Georgia | isPartOf | Georgia_(U.S._sta...</td>\n",
              "      <td>English is the language of the United States, ...</td>\n",
              "    </tr>\n",
              "    <tr>\n",
              "      <th>361</th>\n",
              "      <td>Abdul_Taib_Mahmud | region | Kota_Samarahan</td>\n",
              "      <td>Abdul Taib Mahmud is from Kota Samarahan.</td>\n",
              "    </tr>\n",
              "    <tr>\n",
              "      <th>2206</th>\n",
              "      <td>Alex_Day | genre | Synthpop &amp;&amp; Synthpop | styl...</td>\n",
              "      <td>Alex Day plays Synthpop, which is derived from...</td>\n",
              "    </tr>\n",
              "    <tr>\n",
              "      <th>3539</th>\n",
              "      <td>1097_Vicia | epoch | 2006-12-31 &amp;&amp; 1097_Vicia ...</td>\n",
              "      <td>The epoch date of 1097 Vicia is 2006.12.31. Th...</td>\n",
              "    </tr>\n",
              "  </tbody>\n",
              "</table>\n",
              "</div>\n",
              "      <button class=\"colab-df-convert\" onclick=\"convertToInteractive('df-2851e5c4-afdb-46ed-a277-543471924a52')\"\n",
              "              title=\"Convert this dataframe to an interactive table.\"\n",
              "              style=\"display:none;\">\n",
              "        \n",
              "  <svg xmlns=\"http://www.w3.org/2000/svg\" height=\"24px\"viewBox=\"0 0 24 24\"\n",
              "       width=\"24px\">\n",
              "    <path d=\"M0 0h24v24H0V0z\" fill=\"none\"/>\n",
              "    <path d=\"M18.56 5.44l.94 2.06.94-2.06 2.06-.94-2.06-.94-.94-2.06-.94 2.06-2.06.94zm-11 1L8.5 8.5l.94-2.06 2.06-.94-2.06-.94L8.5 2.5l-.94 2.06-2.06.94zm10 10l.94 2.06.94-2.06 2.06-.94-2.06-.94-.94-2.06-.94 2.06-2.06.94z\"/><path d=\"M17.41 7.96l-1.37-1.37c-.4-.4-.92-.59-1.43-.59-.52 0-1.04.2-1.43.59L10.3 9.45l-7.72 7.72c-.78.78-.78 2.05 0 2.83L4 21.41c.39.39.9.59 1.41.59.51 0 1.02-.2 1.41-.59l7.78-7.78 2.81-2.81c.8-.78.8-2.07 0-2.86zM5.41 20L4 18.59l7.72-7.72 1.47 1.35L5.41 20z\"/>\n",
              "  </svg>\n",
              "      </button>\n",
              "      \n",
              "  <style>\n",
              "    .colab-df-container {\n",
              "      display:flex;\n",
              "      flex-wrap:wrap;\n",
              "      gap: 12px;\n",
              "    }\n",
              "\n",
              "    .colab-df-convert {\n",
              "      background-color: #E8F0FE;\n",
              "      border: none;\n",
              "      border-radius: 50%;\n",
              "      cursor: pointer;\n",
              "      display: none;\n",
              "      fill: #1967D2;\n",
              "      height: 32px;\n",
              "      padding: 0 0 0 0;\n",
              "      width: 32px;\n",
              "    }\n",
              "\n",
              "    .colab-df-convert:hover {\n",
              "      background-color: #E2EBFA;\n",
              "      box-shadow: 0px 1px 2px rgba(60, 64, 67, 0.3), 0px 1px 3px 1px rgba(60, 64, 67, 0.15);\n",
              "      fill: #174EA6;\n",
              "    }\n",
              "\n",
              "    [theme=dark] .colab-df-convert {\n",
              "      background-color: #3B4455;\n",
              "      fill: #D2E3FC;\n",
              "    }\n",
              "\n",
              "    [theme=dark] .colab-df-convert:hover {\n",
              "      background-color: #434B5C;\n",
              "      box-shadow: 0px 1px 3px 1px rgba(0, 0, 0, 0.15);\n",
              "      filter: drop-shadow(0px 1px 2px rgba(0, 0, 0, 0.3));\n",
              "      fill: #FFFFFF;\n",
              "    }\n",
              "  </style>\n",
              "\n",
              "      <script>\n",
              "        const buttonEl =\n",
              "          document.querySelector('#df-2851e5c4-afdb-46ed-a277-543471924a52 button.colab-df-convert');\n",
              "        buttonEl.style.display =\n",
              "          google.colab.kernel.accessAllowed ? 'block' : 'none';\n",
              "\n",
              "        async function convertToInteractive(key) {\n",
              "          const element = document.querySelector('#df-2851e5c4-afdb-46ed-a277-543471924a52');\n",
              "          const dataTable =\n",
              "            await google.colab.kernel.invokeFunction('convertToInteractive',\n",
              "                                                     [key], {});\n",
              "          if (!dataTable) return;\n",
              "\n",
              "          const docLinkHtml = 'Like what you see? Visit the ' +\n",
              "            '<a target=\"_blank\" href=https://colab.research.google.com/notebooks/data_table.ipynb>data table notebook</a>'\n",
              "            + ' to learn more about interactive tables.';\n",
              "          element.innerHTML = '';\n",
              "          dataTable['output_type'] = 'display_data';\n",
              "          await google.colab.output.renderOutput(dataTable, element);\n",
              "          const docLink = document.createElement('div');\n",
              "          docLink.innerHTML = docLinkHtml;\n",
              "          element.appendChild(docLink);\n",
              "        }\n",
              "      </script>\n",
              "    </div>\n",
              "  </div>\n",
              "  "
            ]
          },
          "metadata": {},
          "execution_count": 10
        }
      ]
    },
    {
      "cell_type": "code",
      "source": [
        "tst='/content/webNLG_v3.0/webnlg-dataset-master-release_v3.0-en/release_v3.0/en/test/rdf-to-text-generation-test-data-with-refs-en.xml'\n",
        "dt={}\n",
        "tree = ET.parse(tst) \n",
        "root = tree.getroot()\n",
        "for sub_root in root:\n",
        "  for subsub_root in sub_root:\n",
        "    lexf=[]\n",
        "    trpl=[]\n",
        "    for entry in subsub_root:\n",
        "      trpl.append(entry.text)\n",
        "      lex=[triple.text for triple in entry]\n",
        "      nb=len(lex)\n",
        "      lexf.extend(lex)\n",
        "      lexf=lexf[-nb:]\n",
        "    trpl=[i for i in trpl if i.replace('\\n','').strip()!='' ]\n",
        "    lexf_str=(' && ').join(lexf)\n",
        "    dt[lexf_str]=trpl\n",
        "\n",
        "dc={\"input_text\":[], \"target_text\":[]}\n",
        "dc2={\"input_text\":[], \"target_text\":[]}\n",
        "for st,unst in dt.items():\n",
        "    for i in unst:\n",
        "        dc['input_text'].append(removeSpecial(st))\n",
        "        dc['target_text'].append(removeSpecial(i))\n",
        "        dc2['input_text'].append(st)\n",
        "        dc2['target_text'].append(i)\n",
        "\n",
        "test=pd.DataFrame(dc)\n",
        "test.head()\n"
      ],
      "metadata": {
        "id": "nagTUWag9D9D",
        "colab": {
          "base_uri": "https://localhost:8080/",
          "height": 446
        },
        "outputId": "3f7e5c89-d137-4c50-89c1-931cf8e0c0e9"
      },
      "execution_count": null,
      "outputs": [
        {
          "output_type": "execute_result",
          "data": {
            "text/plain": [
              "                                          input_text  \\\n",
              "0  Estadio_Municipal_Coaracy_da_Mata_Fonseca | lo...   \n",
              "1  Estadio_Municipal_Coaracy_da_Mata_Fonseca | lo...   \n",
              "2  Nie_Haisheng | birthDate | 1964-10-13 && Nie_H...   \n",
              "3  Nie_Haisheng | birthDate | 1964-10-13 && Nie_H...   \n",
              "4  Nie_Haisheng | birthDate | 1964-10-13 && Nie_H...   \n",
              "\n",
              "                                         target_text  \n",
              "0  Estadio Municipal Coaracy da Mata Fonseca is t...  \n",
              "1  Estadio Municipal Coaracy da Mata Fonseca is t...  \n",
              "2  Nie Haisheng, born on October 13, 1964, worked...  \n",
              "3  Nie Haisheng is a former fighter pilot who was...  \n",
              "4  Nie Haisheng born on 10/13/1964 is a fighter p...  "
            ],
            "text/html": [
              "\n",
              "  <div id=\"df-4ac41e5b-c4fc-422d-a6dc-75cf879d0d73\">\n",
              "    <div class=\"colab-df-container\">\n",
              "      <div>\n",
              "<style scoped>\n",
              "    .dataframe tbody tr th:only-of-type {\n",
              "        vertical-align: middle;\n",
              "    }\n",
              "\n",
              "    .dataframe tbody tr th {\n",
              "        vertical-align: top;\n",
              "    }\n",
              "\n",
              "    .dataframe thead th {\n",
              "        text-align: right;\n",
              "    }\n",
              "</style>\n",
              "<table border=\"1\" class=\"dataframe\">\n",
              "  <thead>\n",
              "    <tr style=\"text-align: right;\">\n",
              "      <th></th>\n",
              "      <th>input_text</th>\n",
              "      <th>target_text</th>\n",
              "    </tr>\n",
              "  </thead>\n",
              "  <tbody>\n",
              "    <tr>\n",
              "      <th>0</th>\n",
              "      <td>Estadio_Municipal_Coaracy_da_Mata_Fonseca | lo...</td>\n",
              "      <td>Estadio Municipal Coaracy da Mata Fonseca is t...</td>\n",
              "    </tr>\n",
              "    <tr>\n",
              "      <th>1</th>\n",
              "      <td>Estadio_Municipal_Coaracy_da_Mata_Fonseca | lo...</td>\n",
              "      <td>Estadio Municipal Coaracy da Mata Fonseca is t...</td>\n",
              "    </tr>\n",
              "    <tr>\n",
              "      <th>2</th>\n",
              "      <td>Nie_Haisheng | birthDate | 1964-10-13 &amp;&amp; Nie_H...</td>\n",
              "      <td>Nie Haisheng, born on October 13, 1964, worked...</td>\n",
              "    </tr>\n",
              "    <tr>\n",
              "      <th>3</th>\n",
              "      <td>Nie_Haisheng | birthDate | 1964-10-13 &amp;&amp; Nie_H...</td>\n",
              "      <td>Nie Haisheng is a former fighter pilot who was...</td>\n",
              "    </tr>\n",
              "    <tr>\n",
              "      <th>4</th>\n",
              "      <td>Nie_Haisheng | birthDate | 1964-10-13 &amp;&amp; Nie_H...</td>\n",
              "      <td>Nie Haisheng born on 10/13/1964 is a fighter p...</td>\n",
              "    </tr>\n",
              "  </tbody>\n",
              "</table>\n",
              "</div>\n",
              "      <button class=\"colab-df-convert\" onclick=\"convertToInteractive('df-4ac41e5b-c4fc-422d-a6dc-75cf879d0d73')\"\n",
              "              title=\"Convert this dataframe to an interactive table.\"\n",
              "              style=\"display:none;\">\n",
              "        \n",
              "  <svg xmlns=\"http://www.w3.org/2000/svg\" height=\"24px\"viewBox=\"0 0 24 24\"\n",
              "       width=\"24px\">\n",
              "    <path d=\"M0 0h24v24H0V0z\" fill=\"none\"/>\n",
              "    <path d=\"M18.56 5.44l.94 2.06.94-2.06 2.06-.94-2.06-.94-.94-2.06-.94 2.06-2.06.94zm-11 1L8.5 8.5l.94-2.06 2.06-.94-2.06-.94L8.5 2.5l-.94 2.06-2.06.94zm10 10l.94 2.06.94-2.06 2.06-.94-2.06-.94-.94-2.06-.94 2.06-2.06.94z\"/><path d=\"M17.41 7.96l-1.37-1.37c-.4-.4-.92-.59-1.43-.59-.52 0-1.04.2-1.43.59L10.3 9.45l-7.72 7.72c-.78.78-.78 2.05 0 2.83L4 21.41c.39.39.9.59 1.41.59.51 0 1.02-.2 1.41-.59l7.78-7.78 2.81-2.81c.8-.78.8-2.07 0-2.86zM5.41 20L4 18.59l7.72-7.72 1.47 1.35L5.41 20z\"/>\n",
              "  </svg>\n",
              "      </button>\n",
              "      \n",
              "  <style>\n",
              "    .colab-df-container {\n",
              "      display:flex;\n",
              "      flex-wrap:wrap;\n",
              "      gap: 12px;\n",
              "    }\n",
              "\n",
              "    .colab-df-convert {\n",
              "      background-color: #E8F0FE;\n",
              "      border: none;\n",
              "      border-radius: 50%;\n",
              "      cursor: pointer;\n",
              "      display: none;\n",
              "      fill: #1967D2;\n",
              "      height: 32px;\n",
              "      padding: 0 0 0 0;\n",
              "      width: 32px;\n",
              "    }\n",
              "\n",
              "    .colab-df-convert:hover {\n",
              "      background-color: #E2EBFA;\n",
              "      box-shadow: 0px 1px 2px rgba(60, 64, 67, 0.3), 0px 1px 3px 1px rgba(60, 64, 67, 0.15);\n",
              "      fill: #174EA6;\n",
              "    }\n",
              "\n",
              "    [theme=dark] .colab-df-convert {\n",
              "      background-color: #3B4455;\n",
              "      fill: #D2E3FC;\n",
              "    }\n",
              "\n",
              "    [theme=dark] .colab-df-convert:hover {\n",
              "      background-color: #434B5C;\n",
              "      box-shadow: 0px 1px 3px 1px rgba(0, 0, 0, 0.15);\n",
              "      filter: drop-shadow(0px 1px 2px rgba(0, 0, 0, 0.3));\n",
              "      fill: #FFFFFF;\n",
              "    }\n",
              "  </style>\n",
              "\n",
              "      <script>\n",
              "        const buttonEl =\n",
              "          document.querySelector('#df-4ac41e5b-c4fc-422d-a6dc-75cf879d0d73 button.colab-df-convert');\n",
              "        buttonEl.style.display =\n",
              "          google.colab.kernel.accessAllowed ? 'block' : 'none';\n",
              "\n",
              "        async function convertToInteractive(key) {\n",
              "          const element = document.querySelector('#df-4ac41e5b-c4fc-422d-a6dc-75cf879d0d73');\n",
              "          const dataTable =\n",
              "            await google.colab.kernel.invokeFunction('convertToInteractive',\n",
              "                                                     [key], {});\n",
              "          if (!dataTable) return;\n",
              "\n",
              "          const docLinkHtml = 'Like what you see? Visit the ' +\n",
              "            '<a target=\"_blank\" href=https://colab.research.google.com/notebooks/data_table.ipynb>data table notebook</a>'\n",
              "            + ' to learn more about interactive tables.';\n",
              "          element.innerHTML = '';\n",
              "          dataTable['output_type'] = 'display_data';\n",
              "          await google.colab.output.renderOutput(dataTable, element);\n",
              "          const docLink = document.createElement('div');\n",
              "          docLink.innerHTML = docLinkHtml;\n",
              "          element.appendChild(docLink);\n",
              "        }\n",
              "      </script>\n",
              "    </div>\n",
              "  </div>\n",
              "  "
            ]
          },
          "metadata": {},
          "execution_count": 11
        }
      ]
    },
    {
      "cell_type": "code",
      "source": [
        "test=test.sample(frac=1)\n",
        "test.to_csv('output.csv')\n",
        "test.head()"
      ],
      "metadata": {
        "id": "VEDMI2Tn895e",
        "colab": {
          "base_uri": "https://localhost:8080/",
          "height": 330
        },
        "outputId": "ed02b465-7a95-4fb2-9c3b-3603042d6842"
      },
      "execution_count": null,
      "outputs": [
        {
          "output_type": "execute_result",
          "data": {
            "text/plain": [
              "                                             input_text  \\\n",
              "3921  Nurhan_Atasoy | birthPlace | Reşadiye && Nurha...   \n",
              "1726  Lady_Anne_Monson | birthPlace | Darlington && ...   \n",
              "4032  Let_It_Breed | precededBy | Love_American_Styl...   \n",
              "3836                  John_Mills | child | Juliet_Mills   \n",
              "2320  Alan_Shepard | birthDate | \"1923-11-18\" && Ala...   \n",
              "\n",
              "                                            target_text  \n",
              "3921  Nurhan Atasoy, winner of the State Award for S...  \n",
              "1726  English Lady Anne Monson was born in Darlingto...  \n",
              "4032  Let it Breed was preceded by the album Love Am...  \n",
              "3836        Juliet Mills is the daughter of John Mills.  \n",
              "2320  Alan Shepard was born on Nov 18, 1923 in New H...  "
            ],
            "text/html": [
              "\n",
              "  <div id=\"df-2c438bb9-96e3-4b2e-b3dd-8a270c431483\">\n",
              "    <div class=\"colab-df-container\">\n",
              "      <div>\n",
              "<style scoped>\n",
              "    .dataframe tbody tr th:only-of-type {\n",
              "        vertical-align: middle;\n",
              "    }\n",
              "\n",
              "    .dataframe tbody tr th {\n",
              "        vertical-align: top;\n",
              "    }\n",
              "\n",
              "    .dataframe thead th {\n",
              "        text-align: right;\n",
              "    }\n",
              "</style>\n",
              "<table border=\"1\" class=\"dataframe\">\n",
              "  <thead>\n",
              "    <tr style=\"text-align: right;\">\n",
              "      <th></th>\n",
              "      <th>input_text</th>\n",
              "      <th>target_text</th>\n",
              "    </tr>\n",
              "  </thead>\n",
              "  <tbody>\n",
              "    <tr>\n",
              "      <th>3921</th>\n",
              "      <td>Nurhan_Atasoy | birthPlace | Reşadiye &amp;&amp; Nurha...</td>\n",
              "      <td>Nurhan Atasoy, winner of the State Award for S...</td>\n",
              "    </tr>\n",
              "    <tr>\n",
              "      <th>1726</th>\n",
              "      <td>Lady_Anne_Monson | birthPlace | Darlington &amp;&amp; ...</td>\n",
              "      <td>English Lady Anne Monson was born in Darlingto...</td>\n",
              "    </tr>\n",
              "    <tr>\n",
              "      <th>4032</th>\n",
              "      <td>Let_It_Breed | precededBy | Love_American_Styl...</td>\n",
              "      <td>Let it Breed was preceded by the album Love Am...</td>\n",
              "    </tr>\n",
              "    <tr>\n",
              "      <th>3836</th>\n",
              "      <td>John_Mills | child | Juliet_Mills</td>\n",
              "      <td>Juliet Mills is the daughter of John Mills.</td>\n",
              "    </tr>\n",
              "    <tr>\n",
              "      <th>2320</th>\n",
              "      <td>Alan_Shepard | birthDate | \"1923-11-18\" &amp;&amp; Ala...</td>\n",
              "      <td>Alan Shepard was born on Nov 18, 1923 in New H...</td>\n",
              "    </tr>\n",
              "  </tbody>\n",
              "</table>\n",
              "</div>\n",
              "      <button class=\"colab-df-convert\" onclick=\"convertToInteractive('df-2c438bb9-96e3-4b2e-b3dd-8a270c431483')\"\n",
              "              title=\"Convert this dataframe to an interactive table.\"\n",
              "              style=\"display:none;\">\n",
              "        \n",
              "  <svg xmlns=\"http://www.w3.org/2000/svg\" height=\"24px\"viewBox=\"0 0 24 24\"\n",
              "       width=\"24px\">\n",
              "    <path d=\"M0 0h24v24H0V0z\" fill=\"none\"/>\n",
              "    <path d=\"M18.56 5.44l.94 2.06.94-2.06 2.06-.94-2.06-.94-.94-2.06-.94 2.06-2.06.94zm-11 1L8.5 8.5l.94-2.06 2.06-.94-2.06-.94L8.5 2.5l-.94 2.06-2.06.94zm10 10l.94 2.06.94-2.06 2.06-.94-2.06-.94-.94-2.06-.94 2.06-2.06.94z\"/><path d=\"M17.41 7.96l-1.37-1.37c-.4-.4-.92-.59-1.43-.59-.52 0-1.04.2-1.43.59L10.3 9.45l-7.72 7.72c-.78.78-.78 2.05 0 2.83L4 21.41c.39.39.9.59 1.41.59.51 0 1.02-.2 1.41-.59l7.78-7.78 2.81-2.81c.8-.78.8-2.07 0-2.86zM5.41 20L4 18.59l7.72-7.72 1.47 1.35L5.41 20z\"/>\n",
              "  </svg>\n",
              "      </button>\n",
              "      \n",
              "  <style>\n",
              "    .colab-df-container {\n",
              "      display:flex;\n",
              "      flex-wrap:wrap;\n",
              "      gap: 12px;\n",
              "    }\n",
              "\n",
              "    .colab-df-convert {\n",
              "      background-color: #E8F0FE;\n",
              "      border: none;\n",
              "      border-radius: 50%;\n",
              "      cursor: pointer;\n",
              "      display: none;\n",
              "      fill: #1967D2;\n",
              "      height: 32px;\n",
              "      padding: 0 0 0 0;\n",
              "      width: 32px;\n",
              "    }\n",
              "\n",
              "    .colab-df-convert:hover {\n",
              "      background-color: #E2EBFA;\n",
              "      box-shadow: 0px 1px 2px rgba(60, 64, 67, 0.3), 0px 1px 3px 1px rgba(60, 64, 67, 0.15);\n",
              "      fill: #174EA6;\n",
              "    }\n",
              "\n",
              "    [theme=dark] .colab-df-convert {\n",
              "      background-color: #3B4455;\n",
              "      fill: #D2E3FC;\n",
              "    }\n",
              "\n",
              "    [theme=dark] .colab-df-convert:hover {\n",
              "      background-color: #434B5C;\n",
              "      box-shadow: 0px 1px 3px 1px rgba(0, 0, 0, 0.15);\n",
              "      filter: drop-shadow(0px 1px 2px rgba(0, 0, 0, 0.3));\n",
              "      fill: #FFFFFF;\n",
              "    }\n",
              "  </style>\n",
              "\n",
              "      <script>\n",
              "        const buttonEl =\n",
              "          document.querySelector('#df-2c438bb9-96e3-4b2e-b3dd-8a270c431483 button.colab-df-convert');\n",
              "        buttonEl.style.display =\n",
              "          google.colab.kernel.accessAllowed ? 'block' : 'none';\n",
              "\n",
              "        async function convertToInteractive(key) {\n",
              "          const element = document.querySelector('#df-2c438bb9-96e3-4b2e-b3dd-8a270c431483');\n",
              "          const dataTable =\n",
              "            await google.colab.kernel.invokeFunction('convertToInteractive',\n",
              "                                                     [key], {});\n",
              "          if (!dataTable) return;\n",
              "\n",
              "          const docLinkHtml = 'Like what you see? Visit the ' +\n",
              "            '<a target=\"_blank\" href=https://colab.research.google.com/notebooks/data_table.ipynb>data table notebook</a>'\n",
              "            + ' to learn more about interactive tables.';\n",
              "          element.innerHTML = '';\n",
              "          dataTable['output_type'] = 'display_data';\n",
              "          await google.colab.output.renderOutput(dataTable, element);\n",
              "          const docLink = document.createElement('div');\n",
              "          docLink.innerHTML = docLinkHtml;\n",
              "          element.appendChild(docLink);\n",
              "        }\n",
              "      </script>\n",
              "    </div>\n",
              "  </div>\n",
              "  "
            ]
          },
          "metadata": {},
          "execution_count": 12
        }
      ]
    },
    {
      "cell_type": "code",
      "source": [
        "batch_size=8\n",
        "nb_batches=int(len(train)/batch_size)\n",
        "epochs=5"
      ],
      "metadata": {
        "id": "1k9UMS2fgAUL"
      },
      "execution_count": null,
      "outputs": []
    },
    {
      "cell_type": "code",
      "source": [
        "if torch.cuda.is_available():\n",
        "    dev = torch.device(\"cuda:0\") \n",
        "    print(\"Running on the GPU\")\n",
        "else:\n",
        "    dev = torch.device(\"cpu\")\n",
        "    print(\"Running on the CPU\")"
      ],
      "metadata": {
        "id": "MvjidzLP0Uct",
        "colab": {
          "base_uri": "https://localhost:8080/"
        },
        "outputId": "eae63551-1993-49d2-bf8f-011b406b003c"
      },
      "execution_count": null,
      "outputs": [
        {
          "output_type": "stream",
          "name": "stdout",
          "text": [
            "Running on the GPU\n"
          ]
        }
      ]
    },
    {
      "cell_type": "code",
      "source": [
        "tokenizer = T5Tokenizer.from_pretrained('t5-base')\n",
        "model = T5ForConditionalGeneration.from_pretrained('t5-base', return_dict=True)\n",
        "model.to(dev)"
      ],
      "metadata": {
        "id": "qBrF0s6HgZgW"
      },
      "execution_count": null,
      "outputs": []
    },
    {
      "cell_type": "code",
      "source": [
        "optimizer = Adafactor(\n",
        "    model.parameters(),\n",
        "    lr=1e-3,\n",
        "    eps=(1e-30, 1e-3),\n",
        "    clip_threshold=1.0,\n",
        "    decay_rate=-0.8,\n",
        "    beta1=None,\n",
        "    weight_decay=0.0,\n",
        "    relative_step=False,\n",
        "    scale_parameter=False,\n",
        "    warmup_init=False)"
      ],
      "metadata": {
        "id": "TOKp47MVslPy"
      },
      "execution_count": null,
      "outputs": []
    },
    {
      "cell_type": "code",
      "source": [
        "from IPython.display import HTML, display\n",
        "\n",
        "def progress(loss,value, max=100):\n",
        "    return HTML(\"\"\" Batch loss :{loss}\n",
        "        <progress\n",
        "            value='{value}'\n",
        "            max='{max}',\n",
        "            style='width: 100%'\n",
        "        >\n",
        "            {value}\n",
        "        </progress>\n",
        "    \"\"\".format(loss=loss,value=value, max=max))"
      ],
      "metadata": {
        "id": "TAknQ3rFyGiW"
      },
      "execution_count": null,
      "outputs": []
    },
    {
      "cell_type": "code",
      "source": [
        "model.train()\n",
        "losses=[]\n",
        "for epoch in range(1,epochs+1):\n",
        "  print('Running epoch: {}'.format(epoch))\n",
        "  \n",
        "  running_loss=0\n",
        "\n",
        "  out = display(progress(1, nb_batches+1), display_id=True)\n",
        "  for i in range(nb_batches):\n",
        "    inputbatch=[]\n",
        "    labelbatch=[]\n",
        "    new_df=train[i*batch_size:i*batch_size+batch_size]\n",
        "    for indx,row in new_df.iterrows():\n",
        "      input = row['input_text']+'</s>' \n",
        "      labels = row['target_text']+'</s>'   \n",
        "      inputbatch.append(input)\n",
        "      labelbatch.append(labels)\n",
        "    inputbatch=tokenizer.batch_encode_plus(inputbatch,padding=True,max_length=400,return_tensors='pt')[\"input_ids\"]\n",
        "    labelbatch=tokenizer.batch_encode_plus(labelbatch,padding=True,max_length=400,return_tensors='pt') [\"input_ids\"]\n",
        "    inputbatch=inputbatch.to(dev)\n",
        "    labelbatch=labelbatch.to(dev)\n",
        "\n",
        "    optimizer.zero_grad()\n",
        "    \n",
        "    outputs = model(input_ids=inputbatch, labels=labelbatch)\n",
        "    loss = outputs.loss\n",
        "    loss_num=loss.item()\n",
        "    logits = outputs.logits\n",
        "    running_loss+=loss_num\n",
        "\n",
        "    out.update(progress(loss_num,i, nb_batches+1))\n",
        "\n",
        "    loss.backward()\n",
        "\n",
        "    optimizer.step()\n",
        "    \n",
        "  running_loss=running_loss/int(nb_batches)\n",
        "  losses.append(running_loss)\n",
        "  \n",
        "  print('Epoch: {} , Running loss: {}'.format(epoch,running_loss))\n"
      ],
      "metadata": {
        "id": "Fquc_c6OtoNK",
        "colab": {
          "base_uri": "https://localhost:8080/",
          "height": 404
        },
        "outputId": "6c0ca05a-cf2f-4def-9044-3468bb4f0995"
      },
      "execution_count": null,
      "outputs": [
        {
          "metadata": {
            "tags": null
          },
          "name": "stdout",
          "output_type": "stream",
          "text": [
            "Running epoch: 1\n"
          ]
        },
        {
          "data": {
            "text/html": [
              " Batch loss :0.43972131609916687\n",
              "        <progress\n",
              "            value='4399'\n",
              "            max='4401',\n",
              "            style='width: 100%'\n",
              "        >\n",
              "            4399\n",
              "        </progress>\n",
              "    "
            ],
            "text/plain": [
              "<IPython.core.display.HTML object>"
            ]
          },
          "metadata": {},
          "output_type": "display_data"
        },
        {
          "metadata": {
            "tags": null
          },
          "name": "stdout",
          "output_type": "stream",
          "text": [
            "Epoch: 1 , Running loss: 0.4997421602464535\n",
            "Running epoch: 2\n"
          ]
        },
        {
          "data": {
            "text/html": [
              " Batch loss :0.34975212812423706\n",
              "        <progress\n",
              "            value='4399'\n",
              "            max='4401',\n",
              "            style='width: 100%'\n",
              "        >\n",
              "            4399\n",
              "        </progress>\n",
              "    "
            ],
            "text/plain": [
              "<IPython.core.display.HTML object>"
            ]
          },
          "metadata": {},
          "output_type": "display_data"
        },
        {
          "metadata": {
            "tags": null
          },
          "name": "stdout",
          "output_type": "stream",
          "text": [
            "Epoch: 2 , Running loss: 0.37731959266757426\n",
            "Running epoch: 3\n"
          ]
        },
        {
          "data": {
            "text/html": [
              " Batch loss :0.39926329255104065\n",
              "        <progress\n",
              "            value='708'\n",
              "            max='4401',\n",
              "            style='width: 100%'\n",
              "        >\n",
              "            708\n",
              "        </progress>\n",
              "    "
            ],
            "text/plain": [
              "<IPython.core.display.HTML object>"
            ]
          },
          "metadata": {},
          "output_type": "display_data"
        },
        {
          "output_type": "display_data",
          "data": {
            "text/plain": [
              "<IPython.core.display.HTML object>"
            ],
            "text/html": [
              " Batch loss :0.36254754662513733\n",
              "        <progress\n",
              "            value='4399'\n",
              "            max='4401',\n",
              "            style='width: 100%'\n",
              "        >\n",
              "            4399\n",
              "        </progress>\n",
              "    "
            ]
          },
          "metadata": {}
        },
        {
          "output_type": "stream",
          "name": "stdout",
          "text": [
            "Epoch: 3 , Running loss: 0.3331159036098556\n",
            "Running epoch: 4\n"
          ]
        },
        {
          "output_type": "display_data",
          "data": {
            "text/plain": [
              "<IPython.core.display.HTML object>"
            ],
            "text/html": [
              " Batch loss :0.30798009037971497\n",
              "        <progress\n",
              "            value='4399'\n",
              "            max='4401',\n",
              "            style='width: 100%'\n",
              "        >\n",
              "            4399\n",
              "        </progress>\n",
              "    "
            ]
          },
          "metadata": {}
        },
        {
          "output_type": "stream",
          "name": "stdout",
          "text": [
            "Epoch: 4 , Running loss: 0.302435232815756\n",
            "Running epoch: 5\n"
          ]
        },
        {
          "output_type": "display_data",
          "data": {
            "text/plain": [
              "<IPython.core.display.HTML object>"
            ],
            "text/html": [
              " Batch loss :0.26285406947135925\n",
              "        <progress\n",
              "            value='4399'\n",
              "            max='4401',\n",
              "            style='width: 100%'\n",
              "        >\n",
              "            4399\n",
              "        </progress>\n",
              "    "
            ]
          },
          "metadata": {}
        },
        {
          "output_type": "stream",
          "name": "stdout",
          "text": [
            "Epoch: 5 , Running loss: 0.2793229223347523\n"
          ]
        }
      ]
    },
    {
      "cell_type": "code",
      "source": [
        "nb_b=int(len(val)/batch_size)\n",
        "\n",
        "model.eval()\n",
        "\n",
        "val_loss=[]\n",
        "with torch.no_grad():\n",
        "\n",
        "  for epoch in range(1,epochs+1):\n",
        "    print('Running epoch: {}'.format(epoch))\n",
        "  \n",
        "    running_loss=0\n",
        "\n",
        "    out = display(progress(1, nb_b+1), display_id=True)\n",
        "    for i in range(nb_b):\n",
        "      inputbatch=[]\n",
        "      labelbatch=[]\n",
        "      new_df=val[i*batch_size:i*batch_size+batch_size]\n",
        "      for indx,row in new_df.iterrows():\n",
        "        input = row['input_text']+'</s>' \n",
        "        labels = row['target_text']+'</s>'   \n",
        "        inputbatch.append(input)\n",
        "        labelbatch.append(labels)\n",
        "      inputbatch=tokenizer.batch_encode_plus(inputbatch,padding=True,max_length=400,return_tensors='pt')[\"input_ids\"]\n",
        "      labelbatch=tokenizer.batch_encode_plus(labelbatch,padding=True,max_length=400,return_tensors='pt') [\"input_ids\"]\n",
        "      inputbatch=inputbatch.to(dev)\n",
        "      labelbatch=labelbatch.to(dev)\n",
        "    \n",
        "      outputs = model(input_ids=inputbatch, labels=labelbatch)\n",
        "      loss = outputs.loss\n",
        "      loss_num=loss.item()\n",
        "      logits = outputs.logits\n",
        "      running_loss+=loss_num\n",
        "\n",
        "      out.update(progress(loss_num,i, nb_batches+1))\n",
        "\n",
        "    running_loss=running_loss/int(nb_batches)\n",
        "    val_loss.append(running_loss)\n",
        "  \n",
        "    print('Epoch: {} , Running val loss: {}'.format(epoch,running_loss))"
      ],
      "metadata": {
        "id": "2iZwzImo40gi",
        "colab": {
          "base_uri": "https://localhost:8080/",
          "height": 369
        },
        "outputId": "de12e276-c1c6-450d-a748-c9dc069ef521"
      },
      "execution_count": null,
      "outputs": [
        {
          "output_type": "stream",
          "name": "stdout",
          "text": [
            "Running epoch: 1\n"
          ]
        },
        {
          "output_type": "display_data",
          "data": {
            "text/plain": [
              "<IPython.core.display.HTML object>"
            ],
            "text/html": [
              " Batch loss :0.4008212089538574\n",
              "        <progress\n",
              "            value='556'\n",
              "            max='4401',\n",
              "            style='width: 100%'\n",
              "        >\n",
              "            556\n",
              "        </progress>\n",
              "    "
            ]
          },
          "metadata": {}
        },
        {
          "output_type": "stream",
          "name": "stdout",
          "text": [
            "Epoch: 1 , Running val loss: 0.04307495222850279\n",
            "Running epoch: 2\n"
          ]
        },
        {
          "output_type": "display_data",
          "data": {
            "text/plain": [
              "<IPython.core.display.HTML object>"
            ],
            "text/html": [
              " Batch loss :0.4008212089538574\n",
              "        <progress\n",
              "            value='556'\n",
              "            max='4401',\n",
              "            style='width: 100%'\n",
              "        >\n",
              "            556\n",
              "        </progress>\n",
              "    "
            ]
          },
          "metadata": {}
        },
        {
          "output_type": "stream",
          "name": "stdout",
          "text": [
            "Epoch: 2 , Running val loss: 0.04307495222850279\n",
            "Running epoch: 3\n"
          ]
        },
        {
          "output_type": "display_data",
          "data": {
            "text/plain": [
              "<IPython.core.display.HTML object>"
            ],
            "text/html": [
              " Batch loss :0.4008212089538574\n",
              "        <progress\n",
              "            value='556'\n",
              "            max='4401',\n",
              "            style='width: 100%'\n",
              "        >\n",
              "            556\n",
              "        </progress>\n",
              "    "
            ]
          },
          "metadata": {}
        },
        {
          "output_type": "stream",
          "name": "stdout",
          "text": [
            "Epoch: 3 , Running val loss: 0.04307495222850279\n",
            "Running epoch: 4\n"
          ]
        },
        {
          "output_type": "display_data",
          "data": {
            "text/plain": [
              "<IPython.core.display.HTML object>"
            ],
            "text/html": [
              " Batch loss :0.4008212089538574\n",
              "        <progress\n",
              "            value='556'\n",
              "            max='4401',\n",
              "            style='width: 100%'\n",
              "        >\n",
              "            556\n",
              "        </progress>\n",
              "    "
            ]
          },
          "metadata": {}
        },
        {
          "output_type": "stream",
          "name": "stdout",
          "text": [
            "Epoch: 4 , Running val loss: 0.04307495222850279\n",
            "Running epoch: 5\n"
          ]
        },
        {
          "output_type": "display_data",
          "data": {
            "text/plain": [
              "<IPython.core.display.HTML object>"
            ],
            "text/html": [
              " Batch loss :0.4008212089538574\n",
              "        <progress\n",
              "            value='556'\n",
              "            max='4401',\n",
              "            style='width: 100%'\n",
              "        >\n",
              "            556\n",
              "        </progress>\n",
              "    "
            ]
          },
          "metadata": {}
        },
        {
          "output_type": "stream",
          "name": "stdout",
          "text": [
            "Epoch: 5 , Running val loss: 0.04307495222850279\n"
          ]
        }
      ]
    },
    {
      "cell_type": "code",
      "source": [
        "import matplotlib.pyplot as plt\n",
        "\n",
        "epch=[i for i in range(1,6)]\n",
        "\n",
        "plt.plot(epch, losses,label='train')\n",
        "plt.plot(epch,val_loss,label='val')\n",
        "plt.title('Loss')\n",
        "plt.xlabel('Epochs')\n",
        "plt.ylabel('Loss')\n",
        "plt.show()\n"
      ],
      "metadata": {
        "id": "LRVcmuR8sqgA",
        "colab": {
          "base_uri": "https://localhost:8080/",
          "height": 295
        },
        "outputId": "d2956357-f363-40b4-b903-2b94fb5f1858"
      },
      "execution_count": null,
      "outputs": [
        {
          "output_type": "display_data",
          "data": {
            "text/plain": [
              "<Figure size 432x288 with 1 Axes>"
            ],
            "image/png": "[encoded data removed]"
          },
          "metadata": {
            "needs_background": "light"
          }
        }
      ]
    },
    {
      "cell_type": "code",
      "source": [
        "model.eval()\n",
        "input_ids = tokenizer.encode(removeSpecial(\"11th_Mississippi_Infantry_Monument | country | United States && 11th_Mississippi_Infantry_Monument | location | Adams_County,_Pennsylvania && 11th_Mississippi_Infantry_Monument | state | Pennsylvania && 11th_Mississippi_Infantry_Monument | established | 2000 && 11th_Mississippi_Infantry_Monument | category | Contributing_property && 11th_Mississippi_Infantry_Monument | municipality | Gettysburg,_Pennsylvania</s>\"), return_tensors=\"pt\")\n",
        "input_ids = input_ids.to(dev)\n",
        "outputs = model.generate(input_ids, max_length=400, num_beams=5, early_stopping=True)\n",
        "addSpecial(tokenizer.decode(outputs[0][1:-1]))\n"
      ],
      "metadata": {
        "id": "d8ulQIKKQmVN",
        "colab": {
          "base_uri": "https://localhost:8080/",
          "height": 53
        },
        "outputId": "ba81cef8-3836-4449-a349-f28651720eb3"
      },
      "execution_count": null,
      "outputs": [
        {
          "output_type": "execute_result",
          "data": {
            "text/plain": [
              "'The 11th Mississippi Infantry Monument is located in the municipality of Gettysburg, Adams County, Pennsylvania, USA. It was established in 2000 and is categorised as a contributing property. '"
            ],
            "application/vnd.google.colaboratory.intrinsic+json": {
              "type": "string"
            }
          },
          "metadata": {},
          "execution_count": 22
        }
      ]
    },
    {
      "cell_type": "code",
      "source": [
        "model.eval()\n",
        "input_ids = tokenizer.encode(removeSpecial(\"WebNLG: Mermaid_(Train_song) | recordLabel | Columbia_Records && Mermaid_(Train_song) | runtime | 3.16 && Mermaid_(Train_song) | recordLabel | Sony_Music_Entertainment && Mermaid_(Train_song) | writer | Espen_Lind && Mermaid_(Train_song) | genre | Reggae && Mermaid_(Train_song) | writer | Amund_Bjørklund </s>\"), return_tensors=\"pt\")\n",
        "input_ids = input_ids.to(dev)\n",
        "outputs = model.generate(input_ids, max_length=400, num_beams=5, early_stopping=True)\n",
        "addSpecial(tokenizer.decode(outputs[0][1:-1]))\n"
      ],
      "metadata": {
        "id": "yM4383QvxfAM"
      },
      "execution_count": null,
      "outputs": []
    },
    {
      "cell_type": "code",
      "source": [
        "model.eval()\n",
        "input_ids = tokenizer.encode(removeSpecial('Allen_Forrest | birthYear | 1981 && Allen_Forrest | genre | Acoustic_music && Allen_Forrest | birthPlace | \"Fort Campbell, KY, raised in Dothan, AL\" && Allen_Forrest | background | \"solo_singer\" && Allen_Forrest | birthPlace | Fort_Campbell</s>'), return_tensors=\"pt\")\n",
        "input_ids = input_ids.to(dev)\n",
        "outputs = model.generate(input_ids, max_length=400, num_beams=5, early_stopping=True)\n",
        "addSpecial(tokenizer.decode(outputs[0][1:-1]))\n"
      ],
      "metadata": {
        "id": "aJYXR8lG0mWh",
        "colab": {
          "base_uri": "https://localhost:8080/",
          "height": 53
        },
        "outputId": "77bfa370-433f-4179-b9dd-04ecef33d50d"
      },
      "execution_count": null,
      "outputs": [
        {
          "output_type": "execute_result",
          "data": {
            "text/plain": [
              "'Allen Forrest was born in Fort Campbell, Kentucky in 1981. He plays acoustic music and has a background as a solo singer. '"
            ],
            "application/vnd.google.colaboratory.intrinsic+json": {
              "type": "string"
            }
          },
          "metadata": {},
          "execution_count": 24
        }
      ]
    },
    {
      "cell_type": "code",
      "source": [
        "model.eval()\n",
        "input_ids = tokenizer.encode(removeSpecial('Neymar | fullname | Neymar da Silva Santos Júnior && Neymar | country | Brazil && Neymar | city | São Paulo && Neymar | job | footballer </s>'), return_tensors = \"pt\")\n",
        "input_ids = input_ids.to(dev)\n",
        "outputs = model.generate(input_ids, max_length=400, num_beams=5, early_stopping=True)\n",
        "addSpecial(tokenizer.decode(outputs[0][1:-1]))"
      ],
      "metadata": {
        "id": "kLql7jbP3LOD",
        "colab": {
          "base_uri": "https://localhost:8080/",
          "height": 35
        },
        "outputId": "4889a849-e786-46af-8d1d-cff464bad434"
      },
      "execution_count": null,
      "outputs": [
        {
          "output_type": "execute_result",
          "data": {
            "text/plain": [
              "'Neymar, whose full name is Neymar Da Silva Santos Júnior, is a footballer in São Paulo, Brazil. '"
            ],
            "application/vnd.google.colaboratory.intrinsic+json": {
              "type": "string"
            }
          },
          "metadata": {},
          "execution_count": 25
        }
      ]
    },
    {
      "cell_type": "code",
      "source": [
        "model.eval()\n",
        "l=[]\n",
        "w=[]\n",
        "for indx,row in test.iterrows():\n",
        "  input=row['input_text']+' </s>'\n",
        "  input_ids=tokenizer.encode(input, return_tensors=\"pt\")\n",
        "  input_ids=input_ids.to(dev)\n",
        "  outputs = model.generate(input_ids, max_length=400, num_beams=4, early_stopping=True)\n",
        "  x=addSpecial(tokenizer.decode(outputs[0][1:-1]))\n",
        "  y=tokenizer.decode(outputs[0][1:-1])\n",
        "  l.append(x)\n",
        "  w.append(y)\n"
      ],
      "metadata": {
        "id": "jWCJPT5to0pq"
      },
      "execution_count": null,
      "outputs": []
    },
    {
      "cell_type": "code",
      "source": [
        "r= []\n",
        "for indx,row in test.iterrows():\n",
        "  r.append(row['input_text'])\n"
      ],
      "metadata": {
        "id": "MAsYvccF78e3"
      },
      "execution_count": null,
      "outputs": []
    },
    {
      "cell_type": "code",
      "source": [
        "print(l)\n",
        "print(len(l))\n",
        "print(test.shape)"
      ],
      "metadata": {
        "id": "nAGqHFbROzjR"
      },
      "execution_count": null,
      "outputs": []
    },
    {
      "cell_type": "code",
      "source": [
        "removedDup = {'input_text':[],'target_text':[]}\n",
        "for i in range(len(l)):\n",
        "  if r[i] not in removedDup['input_text']:\n",
        "    removedDup['input_text'].append(r[i])\n",
        "    removedDup['target_text'].append(w[i])"
      ],
      "metadata": {
        "id": "noBldqF7N3W3"
      },
      "execution_count": null,
      "outputs": []
    },
    {
      "cell_type": "code",
      "source": [
        "print(len(removedDup['input_text']))\n",
        "print(len(removedDup['target_text']))\n",
        "print(removedDup)"
      ],
      "metadata": {
        "id": "sNmMWQCSOBo9"
      },
      "execution_count": null,
      "outputs": []
    },
    {
      "cell_type": "code",
      "source": [
        "rdf = pd.DataFrame(removedDup)\n",
        "rdf.to_csv('removedDup.csv')"
      ],
      "metadata": {
        "id": "75QuOd2RSZ_t"
      },
      "execution_count": null,
      "outputs": []
    },
    {
      "cell_type": "code",
      "source": [
        "dcCopy = dc.copy()\n",
        "dcFixed = {}\n",
        "for i in dcCopy['input_text']:\n",
        "  if i not in dcFixed:\n",
        "    dcFixed[i] = []"
      ],
      "metadata": {
        "id": "Rwo5FAsI8H4J"
      },
      "execution_count": null,
      "outputs": []
    },
    {
      "cell_type": "code",
      "source": [
        "for i in range(len(dcCopy['target_text'])):\n",
        "  dcFixed[dcCopy['input_text'][i]].append(dcCopy['target_text'][i])"
      ],
      "metadata": {
        "id": "7tgyqBxP8Q6R"
      },
      "execution_count": null,
      "outputs": []
    },
    {
      "cell_type": "code",
      "source": [
        "#BlEU Score Evaluation\n",
        "from nltk.translate.bleu_score import corpus_bleu"
      ],
      "metadata": {
        "id": "U7Tpc5JA67GF"
      },
      "execution_count": null,
      "outputs": []
    },
    {
      "cell_type": "code",
      "source": [
        "refs = []\n",
        "hyp = []\n",
        "\n",
        "for i in range(len(removedDup['input_text'])):\n",
        "  hyp.append(removedDup['target_text'][i].split())\n",
        "  re = dcFixed[removedDup['input_text'][i]]\n",
        "  for x in range(len(re)):\n",
        "    re[x] = list(re[x].split())\n",
        "  refs.append(dcFixed[removedDup['input_text'][i]])\n",
        "\n",
        "print(hyp[2])\n",
        "print(refs[2])"
      ],
      "metadata": {
        "id": "ODQEHoZD6-yr",
        "colab": {
          "base_uri": "https://localhost:8080/"
        },
        "outputId": "34d7d569-c8d3-4b82-a123-68a9752abb5a"
      },
      "execution_count": null,
      "outputs": [
        {
          "output_type": "stream",
          "name": "stdout",
          "text": [
            "['Let', 'Let', 'Breed', 'is', 'the', 'sequel', 'to', 'the', 'record', 'label,', 'love', 'american', 'style.']\n",
            "[['The', 'album', 'Let', 'It', 'Breed', 'is', 'preceded', 'by', 'the', 'release', 'of', 'the', 'album', 'Love', 'American', 'Style.'], ['The', 'album', 'Let', 'It', 'Breed', 'was', 'preceded', 'by', 'the', 'release', 'of', 'the', 'Love', 'American', 'Style', 'album.'], ['Let', 'it', 'Breed', 'was', 'preceded', 'by', 'the', 'album', 'Love', 'American', 'Style.']]\n"
          ]
        }
      ]
    },
    {
      "cell_type": "code",
      "source": [
        "bleuscore = corpus_bleu(refs,hyp)\n",
        "print(bleuscore)"
      ],
      "metadata": {
        "id": "9LqjiBWJ7EMV",
        "colab": {
          "base_uri": "https://localhost:8080/"
        },
        "outputId": "37f61452-5655-47f9-c5c7-e942c5fe97d0"
      },
      "execution_count": null,
      "outputs": [
        {
          "output_type": "stream",
          "name": "stdout",
          "text": [
            "0.3299413052750862\n"
          ]
        }
      ]
    }
  ]
}